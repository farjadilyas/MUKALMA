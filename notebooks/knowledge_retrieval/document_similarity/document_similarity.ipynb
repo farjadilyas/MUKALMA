{
 "cells": [
  {
   "cell_type": "markdown",
   "id": "c12d2893-ffa2-42f5-9f8e-f17db754f577",
   "metadata": {},
   "source": [
    "# Document Similarity Notebook\n",
    "This notebook is intended to build a pipeline which takes mutliple large documents and returns the document that is the most relevant to a given sentence.\n",
    "\n",
    "Assumption: Will use a more accurate model once this work returns the most relevant document, which will then extract the m,ost relevant sentence."
   ]
  },
  {
   "cell_type": "markdown",
   "id": "f8b31172-40e9-4e66-bd0b-a2b45c2ef034",
   "metadata": {},
   "source": [
    "#### Using TF-IDF for Sentence Similarity\n",
    "Justification: Good results with incredibly cheap performance cost. This is what we want when working at a large scale."
   ]
  },
  {
   "cell_type": "code",
   "execution_count": 1,
   "id": "91ea16dc-c392-4bcc-ad25-6509a1e20097",
   "metadata": {},
   "outputs": [],
   "source": [
    "from sklearn.feature_extraction.text import TfidfVectorizer\n",
    "from sklearn.metrics.pairwise import cosine_similarity\n",
    "\n",
    "def process_tfidf_similarity(base_document, documents):\n",
    "    vectorizer = TfidfVectorizer()\n",
    "\n",
    "    # To make uniformed vectors, both documents need to be combined first.\n",
    "    documents.insert(0, base_document)\n",
    "    embeddings = vectorizer.fit_transform(documents)\n",
    "\n",
    "    cosine_similarities = cosine_similarity(embeddings[0:1], embeddings[1:]).flatten()\n",
    "    print(cosine_similarities)\n",
    "    return cosine_similarities"
   ]
  },
  {
   "cell_type": "code",
   "execution_count": null,
   "id": "42ff9c13-590f-4541-9127-3d79a3527ac9",
   "metadata": {},
   "outputs": [],
   "source": []
  }
 ],
 "metadata": {
  "kernelspec": {
   "display_name": "Python 3 (ipykernel)",
   "language": "python",
   "name": "python3"
  },
  "language_info": {
   "codemirror_mode": {
    "name": "ipython",
    "version": 3
   },
   "file_extension": ".py",
   "mimetype": "text/x-python",
   "name": "python",
   "nbconvert_exporter": "python",
   "pygments_lexer": "ipython3",
   "version": "3.8.1"
  }
 },
 "nbformat": 4,
 "nbformat_minor": 5
}
