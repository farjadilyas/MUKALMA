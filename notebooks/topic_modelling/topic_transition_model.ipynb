{
 "cells": [
  {
   "cell_type": "markdown",
   "id": "ce302f9c",
   "metadata": {},
   "source": [
    "# Topic Transition Model Class"
   ]
  },
  {
   "cell_type": "markdown",
   "id": "06a40298",
   "metadata": {},
   "source": [
    "\n",
    "  MUKALMA - A Knowledge-Powered Conversational Agent\n",
    "  Project Id: F21-20-R-KBCAgent\n",
    "\n",
    "  Class that is responsible for keeping track of the topic a moving conversation is centered around.\n",
    "  It detects changes in topics and updates its information about the current topic after every conversation turn.\n",
    "  If it decides that the topic has changed, it will look for a new central topic.\n",
    "  If the topic is the same, it will slightly tweak the focus of the conversation.\n",
    "\n",
    "  @Author: Muhammad Farjad Ilyas\n",
    "  @Date: 29th March 2022"
   ]
  },
  {
   "cell_type": "markdown",
   "id": "ca42edd4",
   "metadata": {},
   "source": [
    "### Imports"
   ]
  },
  {
   "cell_type": "code",
   "execution_count": 44,
   "id": "73595852",
   "metadata": {},
   "outputs": [],
   "source": [
    "from sentence_transformers import SentenceTransformer\n",
    "from sklearn.metrics.pairwise import cosine_similarity\n",
    "from torch.cuda import is_available as is_cuda_available\n",
    "from scipy.cluster.vq import kmeans\n",
    "\n",
    "# -------------------------------------------------\n",
    "import nltk\n",
    "from sentence_transformers import SentenceTransformer\n",
    "from sklearn.metrics.pairwise import cosine_similarity\n",
    "from nltk.tokenize import word_tokenize, sent_tokenize\n",
    "from scipy.cluster.vq import kmeans\n",
    "\n",
    "# For Utilities\n",
    "import math\n",
    "import time\n",
    "import numpy as np\n",
    "# -------------------------------------------------"
   ]
  },
  {
   "cell_type": "markdown",
   "id": "ee03b640",
   "metadata": {},
   "source": [
    "## TopicTransitionClass"
   ]
  },
  {
   "cell_type": "markdown",
   "id": "15ff7d2c",
   "metadata": {},
   "source": [
    "### Functions"
   ]
  },
  {
   "cell_type": "code",
   "execution_count": 45,
   "id": "1d48c35a",
   "metadata": {},
   "outputs": [],
   "source": [
    "def list_sorted_args(l, reverse=False):\n",
    "    return sorted(range(len(l)), key=l.__getitem__, reverse=reverse)\n",
    "\n",
    "def find_highest_similarity_scores(scores, n=3):\n",
    "    s_idxs = list_sorted_args(scores)\n",
    "    s = [scores[i] for i in s_idxs]\n",
    "    s_len = len(s)\n",
    "    s_range = range(s_len)\n",
    "\n",
    "    kclust = kmeans(np.matrix([s_range, s]).transpose(), n)\n",
    "    assigned_clusters = [abs(kclust[0][:, 0] - e).argmin() for e in s_range]\n",
    "    print(assigned_clusters)\n",
    "\n",
    "    highest_cluster = assigned_clusters[-1]\n",
    "    highest_idxs = []\n",
    "    for i in range(s_len - 1, -1, -1):\n",
    "        if assigned_clusters[i] != highest_cluster:\n",
    "            return highest_idxs\n",
    "        highest_idxs.append(s_idxs[i])\n",
    "    return highest_idxs"
   ]
  },
  {
   "cell_type": "code",
   "execution_count": 46,
   "id": "f19926da",
   "metadata": {},
   "outputs": [],
   "source": [
    "class TopicTransitionModel:\n",
    "    \"\"\"\n",
    "      Compares the current message with the previous message and a control message using sentence similarity.\n",
    "      Uses the intuition that if the current message is closer to the generic control message that doesn't involve\n",
    "      a particular topic, compared to a possibly topic-related previous message, then the topic may have changed.\n",
    "\n",
    "      Updates the keywords that are relevant to the conversation by detecting topic changes. Gives a higher priority\n",
    "      to keywords that have occurred recently by placing them earlier in the list of keywords in ascending order of\n",
    "      indexing.\n",
    "      \n",
    "      Uses a filtering method to pass previous keywords that are still relevant to the conversation turn. This \n",
    "      helps the model simulate conversation context and aids in topic change\n",
    "    \"\"\"\n",
    "\n",
    "    __control_msg = \"Hey! How are you doing?\"\n",
    "\n",
    "    def __init__(self, model=None, model_path='../../models/all-MiniLM-L6-v2', use_cuda=False):\n",
    "        # Keeping track of previous message and keywords that will pass forward\n",
    "        self.sent_changed_topic = self.prev_msg = TopicTransitionModel.__control_msg\n",
    "        self.prev_keywords = []\n",
    "        self.pass_through = []\n",
    "\n",
    "        # Keeping track of False Postives\n",
    "        self.FALSE_TOPIC_CHANGE_LIMIT = 3\n",
    "        self.false_topic_change = 0\n",
    "\n",
    "        # Sentence transformer model\n",
    "        self.model = SentenceTransformer(\n",
    "            model_path, device=('cuda' if use_cuda and is_cuda_available() else 'cpu')\n",
    "        ) if model is None else model\n",
    "\n",
    "    def calc_sentence_similarity(self, msg, candidates):\n",
    "        msg_embedding = self.model.encode([msg])\n",
    "        candidate_embeddings = self.model.encode(candidates)\n",
    "        distances = cosine_similarity(msg_embedding, candidate_embeddings).flatten()\n",
    "        return distances\n",
    "\n",
    "    def order_keywords_by_similarity(self, msg, keywords):\n",
    "        s_scores = self.calc_sentence_similarity(msg, keywords)\n",
    "        s_idxs = list_sorted_args(s_scores, reverse=True)\n",
    "        t_keywords = [keywords[i] for i in s_idxs]\n",
    "        return t_keywords\n",
    "\n",
    "    def has_topic_changed(self, msg, prev_msg, control_msg, error_threshold = -0.02):\n",
    "        distances = self.calc_sentence_similarity(msg, [prev_msg, control_msg])\n",
    "        return (distances[1] - distances[0]) > error_threshold\n",
    "\n",
    "    def update_topic(self, message, c_keywords):\n",
    "        \n",
    "        # Comparing the current message to the previous keywords\n",
    "        if len(self.prev_keywords) > 0:\n",
    "            self.prev_keywords = list(set(self.prev_keywords).difference(c_keywords)) \n",
    "            s_scores = self.calc_sentence_similarity(msg, self.prev_keywords)\n",
    "\n",
    "            if len(self.prev_keywords) >= 3:\n",
    "                self.pass_through = [self.prev_keywords[i] for i in find_highest_similarity_scores(s_scores, 2 if len(self.prev_keywords) <= 3 else 3)]\n",
    "            else:\n",
    "                self.pass_through = self.prev_keywords\n",
    "        # End if\n",
    "        \n",
    "        # Calculating topic changes\n",
    "        topic_change_from_prev_msg = self.has_topic_changed(msg, self.prev_msg, TopicTransitionModel.__control_msg)\n",
    "        topic_change_from_prev_topic = self.has_topic_changed(msg, self.sent_changed_topic, TopicTransitionModel.__control_msg, error_threshold=0.05)\n",
    "\n",
    "        # If topic changes\n",
    "        if topic_change_from_prev_msg or topic_change_from_prev_topic:    \n",
    "            self.sent_changed_topic = msg\n",
    "            \n",
    "        # Adding new keywords\n",
    "        t_keywords = c_keywords + self.pass_through\n",
    "\n",
    "        if len(t_keywords) > 0:\n",
    "            t_keywords = self.order_keywords_by_similarity(msg, t_keywords)\n",
    "        \n",
    "        # Setting Previous keywords\n",
    "        self.prev_msg = message\n",
    "        self.prev_keywords = t_keywords\n",
    "        \n",
    "        return t_keywords\n",
    "    # End of function\n",
    "    \n",
    "# End of class"
   ]
  },
  {
   "cell_type": "markdown",
   "id": "982cc636",
   "metadata": {},
   "source": [
    "## POS Tagging"
   ]
  },
  {
   "cell_type": "code",
   "execution_count": 47,
   "id": "f61e09a0",
   "metadata": {},
   "outputs": [],
   "source": [
    "def tag_sentence(message):\n",
    "    tokenized = sent_tokenize(message)\n",
    "    nouns = []\n",
    "    for sentence in tokenized:\n",
    "        wordsList = word_tokenize(sentence)\n",
    "        tagged = nltk.pos_tag(wordsList)\n",
    "        nouns.extend([tag[0] for tag in tagged if tag[1][:2] in ['NN', 'CD'] and tag[0].lower() not in ['hi', 'hey']])\n",
    "    return nouns"
   ]
  },
  {
   "cell_type": "markdown",
   "id": "afa06e1c",
   "metadata": {},
   "source": [
    "### Testing"
   ]
  },
  {
   "cell_type": "code",
   "execution_count": 49,
   "id": "e319b381",
   "metadata": {},
   "outputs": [
    {
     "name": "stdout",
     "output_type": "stream",
     "text": [
      "\n",
      "User: I recently travelled to Paris\n",
      "topics: ['Paris']\n",
      "time elapsed: 0.11799860000610352\n",
      "####################################################################################################\n",
      "\n",
      "User: I went to Karachi and saw the beach and the sea\n",
      "topics: ['Karachi', 'beach', 'sea', 'Paris']\n",
      "time elapsed: 0.21702265739440918\n",
      "####################################################################################################\n",
      "\n",
      "User: I see. Have you gotten your COVID vaccine yet?\n",
      "[0, 1, 1, 2]\n",
      "topics: ['COVID', 'vaccine', 'sea']\n",
      "time elapsed: 0.1700115203857422\n",
      "####################################################################################################\n",
      "\n",
      "User: No I haven't\n",
      "[1, 1, 0]\n",
      "topics: ['COVID']\n",
      "time elapsed: 0.16199755668640137\n",
      "####################################################################################################\n"
     ]
    },
    {
     "ename": "KeyboardInterrupt",
     "evalue": "Interrupted by user",
     "output_type": "error",
     "traceback": [
      "\u001b[1;31m---------------------------------------------------------------------------\u001b[0m",
      "\u001b[1;31mKeyboardInterrupt\u001b[0m                         Traceback (most recent call last)",
      "Input \u001b[1;32mIn [49]\u001b[0m, in \u001b[0;36m<cell line: 6>\u001b[1;34m()\u001b[0m\n\u001b[0;32m      3\u001b[0m \u001b[38;5;66;03m# Main loop to simulate conversation\u001b[39;00m\n\u001b[0;32m      4\u001b[0m \u001b[38;5;28;01mwhile\u001b[39;00m \u001b[38;5;28;01mTrue\u001b[39;00m:\n\u001b[0;32m      5\u001b[0m     \u001b[38;5;66;03m# Taking user input\u001b[39;00m\n\u001b[1;32m----> 6\u001b[0m     msg \u001b[38;5;241m=\u001b[39m \u001b[38;5;28;43minput\u001b[39;49m\u001b[43m(\u001b[49m\u001b[38;5;124;43m'\u001b[39;49m\u001b[38;5;130;43;01m\\n\u001b[39;49;00m\u001b[38;5;124;43mUser: \u001b[39;49m\u001b[38;5;124;43m'\u001b[39;49m\u001b[43m)\u001b[49m\n\u001b[0;32m      7\u001b[0m     t1 \u001b[38;5;241m=\u001b[39m time\u001b[38;5;241m.\u001b[39mtime()\n\u001b[0;32m      9\u001b[0m     \u001b[38;5;66;03m# Breaking if user enters 'exit'\u001b[39;00m\n",
      "File \u001b[1;32mc:\\program files\\python38\\lib\\site-packages\\ipykernel\\kernelbase.py:1076\u001b[0m, in \u001b[0;36mKernel.raw_input\u001b[1;34m(self, prompt)\u001b[0m\n\u001b[0;32m   1072\u001b[0m \u001b[38;5;28;01mif\u001b[39;00m \u001b[38;5;129;01mnot\u001b[39;00m \u001b[38;5;28mself\u001b[39m\u001b[38;5;241m.\u001b[39m_allow_stdin:\n\u001b[0;32m   1073\u001b[0m     \u001b[38;5;28;01mraise\u001b[39;00m StdinNotImplementedError(\n\u001b[0;32m   1074\u001b[0m         \u001b[38;5;124m\"\u001b[39m\u001b[38;5;124mraw_input was called, but this frontend does not support input requests.\u001b[39m\u001b[38;5;124m\"\u001b[39m\n\u001b[0;32m   1075\u001b[0m     )\n\u001b[1;32m-> 1076\u001b[0m \u001b[38;5;28;01mreturn\u001b[39;00m \u001b[38;5;28;43mself\u001b[39;49m\u001b[38;5;241;43m.\u001b[39;49m\u001b[43m_input_request\u001b[49m\u001b[43m(\u001b[49m\n\u001b[0;32m   1077\u001b[0m \u001b[43m    \u001b[49m\u001b[38;5;28;43mstr\u001b[39;49m\u001b[43m(\u001b[49m\u001b[43mprompt\u001b[49m\u001b[43m)\u001b[49m\u001b[43m,\u001b[49m\n\u001b[0;32m   1078\u001b[0m \u001b[43m    \u001b[49m\u001b[38;5;28;43mself\u001b[39;49m\u001b[38;5;241;43m.\u001b[39;49m\u001b[43m_parent_ident\u001b[49m\u001b[43m[\u001b[49m\u001b[38;5;124;43m\"\u001b[39;49m\u001b[38;5;124;43mshell\u001b[39;49m\u001b[38;5;124;43m\"\u001b[39;49m\u001b[43m]\u001b[49m\u001b[43m,\u001b[49m\n\u001b[0;32m   1079\u001b[0m \u001b[43m    \u001b[49m\u001b[38;5;28;43mself\u001b[39;49m\u001b[38;5;241;43m.\u001b[39;49m\u001b[43mget_parent\u001b[49m\u001b[43m(\u001b[49m\u001b[38;5;124;43m\"\u001b[39;49m\u001b[38;5;124;43mshell\u001b[39;49m\u001b[38;5;124;43m\"\u001b[39;49m\u001b[43m)\u001b[49m\u001b[43m,\u001b[49m\n\u001b[0;32m   1080\u001b[0m \u001b[43m    \u001b[49m\u001b[43mpassword\u001b[49m\u001b[38;5;241;43m=\u001b[39;49m\u001b[38;5;28;43;01mFalse\u001b[39;49;00m\u001b[43m,\u001b[49m\n\u001b[0;32m   1081\u001b[0m \u001b[43m\u001b[49m\u001b[43m)\u001b[49m\n",
      "File \u001b[1;32mc:\\program files\\python38\\lib\\site-packages\\ipykernel\\kernelbase.py:1121\u001b[0m, in \u001b[0;36mKernel._input_request\u001b[1;34m(self, prompt, ident, parent, password)\u001b[0m\n\u001b[0;32m   1118\u001b[0m             \u001b[38;5;28;01mbreak\u001b[39;00m\n\u001b[0;32m   1119\u001b[0m \u001b[38;5;28;01mexcept\u001b[39;00m \u001b[38;5;167;01mKeyboardInterrupt\u001b[39;00m:\n\u001b[0;32m   1120\u001b[0m     \u001b[38;5;66;03m# re-raise KeyboardInterrupt, to truncate traceback\u001b[39;00m\n\u001b[1;32m-> 1121\u001b[0m     \u001b[38;5;28;01mraise\u001b[39;00m \u001b[38;5;167;01mKeyboardInterrupt\u001b[39;00m(\u001b[38;5;124m\"\u001b[39m\u001b[38;5;124mInterrupted by user\u001b[39m\u001b[38;5;124m\"\u001b[39m) \u001b[38;5;28;01mfrom\u001b[39;00m \u001b[38;5;28mNone\u001b[39m\n\u001b[0;32m   1122\u001b[0m \u001b[38;5;28;01mexcept\u001b[39;00m \u001b[38;5;167;01mException\u001b[39;00m:\n\u001b[0;32m   1123\u001b[0m     \u001b[38;5;28mself\u001b[39m\u001b[38;5;241m.\u001b[39mlog\u001b[38;5;241m.\u001b[39mwarning(\u001b[38;5;124m\"\u001b[39m\u001b[38;5;124mInvalid Message:\u001b[39m\u001b[38;5;124m\"\u001b[39m, exc_info\u001b[38;5;241m=\u001b[39m\u001b[38;5;28;01mTrue\u001b[39;00m)\n",
      "\u001b[1;31mKeyboardInterrupt\u001b[0m: Interrupted by user"
     ]
    }
   ],
   "source": [
    "model = TopicTransitionModel()\n",
    "\n",
    "# Main loop to simulate conversation\n",
    "while True:\n",
    "    # Taking user input\n",
    "    msg = input('\\nUser: ')\n",
    "    t1 = time.time()\n",
    "    \n",
    "    # Breaking if user enters 'exit'\n",
    "    if msg == 'exit':\n",
    "        break\n",
    "        \n",
    "    topics = model.update_topic(msg, tag_sentence(msg))\n",
    "    print (f\"topics: {topics}\")\n",
    "        \n",
    "    # Updating previous messages and state for the next turn\n",
    "    print(f\"time elapsed: {time.time() - t1}\")\n",
    "    print (\"#\" * 100)"
   ]
  },
  {
   "cell_type": "code",
   "execution_count": null,
   "id": "4a8bda88",
   "metadata": {},
   "outputs": [],
   "source": []
  }
 ],
 "metadata": {
  "kernelspec": {
   "display_name": "Python 3 (ipykernel)",
   "language": "python",
   "name": "python3"
  },
  "language_info": {
   "codemirror_mode": {
    "name": "ipython",
    "version": 3
   },
   "file_extension": ".py",
   "mimetype": "text/x-python",
   "name": "python",
   "nbconvert_exporter": "python",
   "pygments_lexer": "ipython3",
   "version": "3.8.2"
  }
 },
 "nbformat": 4,
 "nbformat_minor": 5
}
