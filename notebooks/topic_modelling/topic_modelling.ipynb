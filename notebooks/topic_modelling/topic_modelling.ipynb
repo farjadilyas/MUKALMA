{
 "cells": [
  {
   "cell_type": "markdown",
   "id": "d3fa44f7-42f3-4d21-8c4a-c9c6f3bea737",
   "metadata": {},
   "source": [
    "# Topic Modelling\n",
    "\n",
    "Creating a system which, given turns of conversation that has happened and a new turn, can return the most important topic(s) the conversation is revolving around\n",
    "\n",
    "Note: This will be fed into the knowledge retreival phases to provide the core context in addition to the latest turn of conversation"
   ]
  },
  {
   "cell_type": "markdown",
   "id": "6f3f5fdb-9bfe-452c-9e9e-eeb6f5b6b7c6",
   "metadata": {},
   "source": [
    "### Imports"
   ]
  },
  {
   "cell_type": "code",
   "execution_count": null,
   "id": "03087343-b1e1-4cb0-944c-2a905bd1500a",
   "metadata": {},
   "outputs": [],
   "source": []
  }
 ],
 "metadata": {
  "kernelspec": {
   "display_name": "Python 3 (ipykernel)",
   "language": "python",
   "name": "python3"
  },
  "language_info": {
   "codemirror_mode": {
    "name": "ipython",
    "version": 3
   },
   "file_extension": ".py",
   "mimetype": "text/x-python",
   "name": "python",
   "nbconvert_exporter": "python",
   "pygments_lexer": "ipython3",
   "version": "3.8.1"
  }
 },
 "nbformat": 4,
 "nbformat_minor": 5
}
